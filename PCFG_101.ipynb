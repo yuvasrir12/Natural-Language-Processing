{
 "cells": [
  {
   "cell_type": "code",
   "execution_count": 1,
   "id": "72c0a400-436e-4b91-ad57-2362e63c2607",
   "metadata": {},
   "outputs": [],
   "source": [
    "from nltk import PCFG, InsideChartParser\n"
   ]
  },
  {
   "cell_type": "code",
   "execution_count": 10,
   "id": "76835e59-5f42-4b0b-99ba-8b6c873fe06e",
   "metadata": {},
   "outputs": [],
   "source": [
    "grammer=PCFG.fromstring(\"\"\"\n",
    "S -> NP VP [1.0]\n",
    "NP -> NP PP [0.4] | 'he' [0.1] | 'dessert' [0.3] | 'lunch' [0.1] | 'saw' [0.1]\n",
    "PP -> Pre NP [1.0]\n",
    "VP -> Verb NP [0.3] | VP PP [0.7]\n",
    "Pre -> 'with' [0.6] | 'in' [0.4]\n",
    "Verb -> 'ate'[0.7]|'saw' [0.3]\n",
    "\"\"\")\n"
   ]
  },
  {
   "cell_type": "code",
   "execution_count": 11,
   "id": "7aca02d6-f163-427d-a458-900408e926e0",
   "metadata": {},
   "outputs": [],
   "source": [
    "parser= InsideChartParser(grammer)"
   ]
  },
  {
   "cell_type": "code",
   "execution_count": 12,
   "id": "47f232be-c235-496d-9420-4653e7055bf1",
   "metadata": {},
   "outputs": [],
   "source": [
    "tokens=\" he saw lunch with dessert\".split()"
   ]
  },
  {
   "cell_type": "code",
   "execution_count": 13,
   "id": "d94b61cc-f7c3-4238-be90-155ef42da14b",
   "metadata": {},
   "outputs": [
    {
     "name": "stdout",
     "output_type": "stream",
     "text": [
      "               S                       \n",
      "  _____________|____                    \n",
      " |                  VP                 \n",
      " |         _________|________           \n",
      " |        VP                 PP        \n",
      " |    ____|____          ____|_____     \n",
      " NP Verb       NP      Pre         NP  \n",
      " |   |         |        |          |    \n",
      " he saw      lunch     with     dessert\n",
      "\n",
      "           S                       \n",
      "  _________|____                    \n",
      " |              VP                 \n",
      " |    __________|___                \n",
      " |   |              NP             \n",
      " |   |      ________|____           \n",
      " |   |     |             PP        \n",
      " |   |     |         ____|_____     \n",
      " NP Verb   NP      Pre         NP  \n",
      " |   |     |        |          |    \n",
      " he saw  lunch     with     dessert\n",
      "\n"
     ]
    }
   ],
   "source": [
    "for tree in parser.parse(tokens):\n",
    "    tree.pretty_print()"
   ]
  },
  {
   "cell_type": "code",
   "execution_count": 14,
   "id": "28a99fb8-11da-4d37-a720-eeeeab5c1d71",
   "metadata": {},
   "outputs": [
    {
     "data": {
      "text/plain": [
       "6.480000000000002e-05"
      ]
     },
     "execution_count": 14,
     "metadata": {},
     "output_type": "execute_result"
    }
   ],
   "source": [
    "tree.prob()"
   ]
  },
  {
   "cell_type": "code",
   "execution_count": null,
   "id": "6a72c3df-358f-415b-81b5-b00bf95deb2c",
   "metadata": {},
   "outputs": [],
   "source": []
  }
 ],
 "metadata": {
  "kernelspec": {
   "display_name": "Python 3 (ipykernel)",
   "language": "python",
   "name": "python3"
  },
  "language_info": {
   "codemirror_mode": {
    "name": "ipython",
    "version": 3
   },
   "file_extension": ".py",
   "mimetype": "text/x-python",
   "name": "python",
   "nbconvert_exporter": "python",
   "pygments_lexer": "ipython3",
   "version": "3.12.4"
  }
 },
 "nbformat": 4,
 "nbformat_minor": 5
}
