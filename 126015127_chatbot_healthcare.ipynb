{
 "cells": [
  {
   "cell_type": "code",
   "execution_count": 3,
   "id": "28828c2f-3cd7-4b4b-914f-fc0bd8b0cfc8",
   "metadata": {},
   "outputs": [
    {
     "name": "stderr",
     "output_type": "stream",
     "text": [
      "[nltk_data] Downloading package punkt to\n",
      "[nltk_data]     C:\\Users\\Yuvasri\\AppData\\Roaming\\nltk_data...\n",
      "[nltk_data]   Package punkt is already up-to-date!\n",
      "[nltk_data] Downloading package wordnet to\n",
      "[nltk_data]     C:\\Users\\Yuvasri\\AppData\\Roaming\\nltk_data...\n",
      "[nltk_data]   Package wordnet is already up-to-date!\n"
     ]
    },
    {
     "name": "stdout",
     "output_type": "stream",
     "text": [
      "Healthcare Assistant: Hello! I'm here to help with your health questions. Type 'quit' to exit.\n",
      "\n"
     ]
    },
    {
     "name": "stdin",
     "output_type": "stream",
     "text": [
      "You:  hello\n"
     ]
    },
    {
     "name": "stdout",
     "output_type": "stream",
     "text": [
      "\u001b[1m1/1\u001b[0m \u001b[32m━━━━━━━━━━━━━━━━━━━━\u001b[0m\u001b[37m\u001b[0m \u001b[1m0s\u001b[0m 60ms/step\n",
      "Healthcare Assistant: Hello! I'm your healthcare assistant. How can I help today?\n"
     ]
    },
    {
     "name": "stdin",
     "output_type": "stream",
     "text": [
      "You:  i have a headache\n"
     ]
    },
    {
     "name": "stdout",
     "output_type": "stream",
     "text": [
      "\u001b[1m1/1\u001b[0m \u001b[32m━━━━━━━━━━━━━━━━━━━━\u001b[0m\u001b[37m\u001b[0m \u001b[1m0s\u001b[0m 24ms/step\n",
      "Healthcare Assistant: I'm sorry to hear that. How long have you had these symptoms?\n",
      "Healthcare Assistant: On a scale from 1 to 10, how severe are your symptoms?\n"
     ]
    },
    {
     "name": "stdin",
     "output_type": "stream",
     "text": [
      "You:  6\n"
     ]
    },
    {
     "name": "stdout",
     "output_type": "stream",
     "text": [
      "\u001b[1m1/1\u001b[0m \u001b[32m━━━━━━━━━━━━━━━━━━━━\u001b[0m\u001b[37m\u001b[0m \u001b[1m0s\u001b[0m 38ms/step\n",
      "Healthcare Assistant: Got it. That sounds moderately severe. Have you taken any medication?\n"
     ]
    },
    {
     "name": "stdin",
     "output_type": "stream",
     "text": [
      "You:  i haven't taken anything yet\n"
     ]
    },
    {
     "name": "stdout",
     "output_type": "stream",
     "text": [
      "\u001b[1m1/1\u001b[0m \u001b[32m━━━━━━━━━━━━━━━━━━━━\u001b[0m\u001b[37m\u001b[0m \u001b[1m0s\u001b[0m 29ms/step\n",
      "Healthcare Assistant: You should monitor your symptoms. If they persist, consult a doctor.\n"
     ]
    },
    {
     "name": "stdin",
     "output_type": "stream",
     "text": [
      "You:  can i book a visit?\n"
     ]
    },
    {
     "name": "stdout",
     "output_type": "stream",
     "text": [
      "\u001b[1m1/1\u001b[0m \u001b[32m━━━━━━━━━━━━━━━━━━━━\u001b[0m\u001b[37m\u001b[0m \u001b[1m0s\u001b[0m 26ms/step\n",
      "Healthcare Assistant: I can help you find a doctor. What specialty do you need?\n",
      "Healthcare Assistant: Do you have a preferred time or doctor?\n"
     ]
    },
    {
     "name": "stdin",
     "output_type": "stream",
     "text": [
      "You:  neurologist\n"
     ]
    },
    {
     "name": "stdout",
     "output_type": "stream",
     "text": [
      "\u001b[1m1/1\u001b[0m \u001b[32m━━━━━━━━━━━━━━━━━━━━\u001b[0m\u001b[37m\u001b[0m \u001b[1m0s\u001b[0m 19ms/step\n",
      "Healthcare Assistant: Great! I’ll look into available neurologist appointments for soon.\n"
     ]
    },
    {
     "name": "stdin",
     "output_type": "stream",
     "text": [
      "You:  tomorrow morning\n"
     ]
    },
    {
     "name": "stdout",
     "output_type": "stream",
     "text": [
      "\u001b[1m1/1\u001b[0m \u001b[32m━━━━━━━━━━━━━━━━━━━━\u001b[0m\u001b[37m\u001b[0m \u001b[1m0s\u001b[0m 20ms/step\n",
      "Healthcare Assistant: Great! I’ll look into available specialist appointments for tomorrow.\n"
     ]
    },
    {
     "name": "stdin",
     "output_type": "stream",
     "text": [
      "You:  thank you!\n"
     ]
    },
    {
     "name": "stdout",
     "output_type": "stream",
     "text": [
      "\u001b[1m1/1\u001b[0m \u001b[32m━━━━━━━━━━━━━━━━━━━━\u001b[0m\u001b[37m\u001b[0m \u001b[1m0s\u001b[0m 17ms/step\n",
      "Healthcare Assistant: Goodbye! Take care of your health.\n"
     ]
    },
    {
     "name": "stdin",
     "output_type": "stream",
     "text": [
      "You:  bye\n"
     ]
    },
    {
     "name": "stdout",
     "output_type": "stream",
     "text": [
      "\u001b[1m1/1\u001b[0m \u001b[32m━━━━━━━━━━━━━━━━━━━━\u001b[0m\u001b[37m\u001b[0m \u001b[1m0s\u001b[0m 23ms/step\n",
      "Healthcare Assistant: Goodbye! Take care of your health.\n"
     ]
    },
    {
     "name": "stdin",
     "output_type": "stream",
     "text": [
      "You:  quit\n"
     ]
    },
    {
     "name": "stdout",
     "output_type": "stream",
     "text": [
      "Healthcare Assistant: Take care of your health! Goodbye.\n"
     ]
    }
   ],
   "source": [
    "import random\n",
    "import nltk\n",
    "from nltk.stem import WordNetLemmatizer\n",
    "import numpy as np\n",
    "from tensorflow.keras.models import Sequential\n",
    "from tensorflow.keras.layers import Dense, Dropout\n",
    "from tensorflow.keras.optimizers import SGD\n",
    "\n",
    "nltk.download('punkt')\n",
    "nltk.download('wordnet')\n",
    "\n",
    "lemmatizer = WordNetLemmatizer()\n",
    "\n",
    "# Define intents\n",
    "intents = {\n",
    "    \"intents\": [\n",
    "        {\n",
    "            \"tag\": \"greeting\",\n",
    "            \"patterns\": [\"hello\", \"hi\", \"hey\", \"good morning\"],\n",
    "            \"responses\": [\"Hello! I'm your healthcare assistant. How can I help today?\"]\n",
    "        },\n",
    "        {\n",
    "            \"tag\": \"goodbye\",\n",
    "            \"patterns\": [\"bye\", \"goodbye\", \"see you\", \"take care\"],\n",
    "            \"responses\": [\"Goodbye! Take care of your health.\"]\n",
    "        },\n",
    "        {\n",
    "            \"tag\": \"symptoms\",\n",
    "            \"patterns\": [\"i have a headache\", \"my stomach hurts\", \"i feel dizzy\", \"i have fever\"],\n",
    "            \"responses\": [\n",
    "                \"I'm sorry to hear that. How long have you had these symptoms?\"\n",
    "            ]\n",
    "        },\n",
    "        {\n",
    "            \"tag\": \"severity_followup\",\n",
    "            \"patterns\": [\"1\", \"5\", \"6\", \"7\", \"10\", \"maybe around 6\", \"it's mild\", \"severe\"],\n",
    "            \"responses\": [\n",
    "                \"Got it. That sounds moderately severe. Have you taken any medication?\"\n",
    "            ]\n",
    "        },\n",
    "        {\n",
    "            \"tag\": \"medication\",\n",
    "            \"patterns\": [\"i took paracetamol\", \"i haven't taken anything\", \"no, not yet\"],\n",
    "            \"responses\": [\n",
    "                \"You should monitor your symptoms. If they persist, consult a doctor.\"\n",
    "            ]\n",
    "        },\n",
    "        {\n",
    "            \"tag\": \"appointment\",\n",
    "            \"patterns\": [\"book a visit\", \"can i see a doctor\", \"schedule an appointment\"],\n",
    "            \"responses\": [\n",
    "                \"I can help you find a doctor. What specialty do you need?\"\n",
    "            ]\n",
    "        },\n",
    "        {\n",
    "            \"tag\": \"appointment_details\",\n",
    "            \"patterns\": [\"neurologist tomorrow\", \"cardiologist next week\", \"dermatologist today\"],\n",
    "            \"responses\": [\n",
    "                \"Great! I’ll look into available {specialty} appointments for {time}.\"\n",
    "            ]\n",
    "        },\n",
    "        {\n",
    "            \"tag\": \"noanswer\",\n",
    "            \"patterns\": [],\n",
    "            \"responses\": [\"Sorry, I didn't get that. Can you rephrase your question?\"]\n",
    "        }\n",
    "    ]\n",
    "}\n",
    "\n",
    "# Preprocess\n",
    "words = []\n",
    "classes = []\n",
    "documents = []\n",
    "ignore_letters = ['?', '!', '.', ',']\n",
    "\n",
    "for intent in intents['intents']:\n",
    "    for pattern in intent['patterns']:\n",
    "        word_list = nltk.word_tokenize(pattern)\n",
    "        words.extend(word_list)\n",
    "        documents.append((word_list, intent['tag']))\n",
    "        if intent['tag'] not in classes:\n",
    "            classes.append(intent['tag'])\n",
    "\n",
    "words = sorted(set([lemmatizer.lemmatize(w.lower()) for w in words if w not in ignore_letters]))\n",
    "classes = sorted(set(classes))\n",
    "\n",
    "# Training\n",
    "training = []\n",
    "output_empty = [0] * len(classes)\n",
    "\n",
    "for doc in documents:\n",
    "    bag = []\n",
    "    pattern_words = [lemmatizer.lemmatize(word.lower()) for word in doc[0]]\n",
    "    for w in words:\n",
    "        bag.append(1 if w in pattern_words else 0)\n",
    "\n",
    "    output_row = output_empty[:]\n",
    "    output_row[classes.index(doc[1])] = 1\n",
    "    training.append([bag, output_row])\n",
    "\n",
    "random.shuffle(training)\n",
    "training = np.array(training, dtype=object)\n",
    "train_x = np.array(list(training[:, 0]))\n",
    "train_y = np.array(list(training[:, 1]))\n",
    "\n",
    "# Model\n",
    "model = Sequential()\n",
    "model.add(Dense(128, input_shape=(len(train_x[0]),), activation='relu'))\n",
    "model.add(Dropout(0.5))\n",
    "model.add(Dense(64, activation='relu'))\n",
    "model.add(Dropout(0.5))\n",
    "model.add(Dense(len(train_y[0]), activation='softmax'))\n",
    "\n",
    "sgd = SGD(learning_rate=0.01, momentum=0.9)\n",
    "model.compile(loss='categorical_crossentropy', optimizer=sgd, metrics=['accuracy'])\n",
    "model.fit(train_x, train_y, epochs=200, batch_size=5, verbose=0)\n",
    "\n",
    "# Helpers\n",
    "def clean_input(sentence):\n",
    "    sentence_words = nltk.word_tokenize(sentence)\n",
    "    return [lemmatizer.lemmatize(word.lower()) for word in sentence_words]\n",
    "\n",
    "def bag_of_words(sentence, words):\n",
    "    sentence_words = clean_input(sentence)\n",
    "    bag = [0] * len(words)\n",
    "    for s in sentence_words:\n",
    "        for i, w in enumerate(words):\n",
    "            if w == s:\n",
    "                bag[i] = 1\n",
    "    return np.array(bag)\n",
    "\n",
    "def predict_tag(sentence):\n",
    "    bow = bag_of_words(sentence, words)\n",
    "    res = model.predict(np.array([bow]))[0]\n",
    "    threshold = 0.25\n",
    "    results = [[i, r] for i, r in enumerate(res) if r > threshold]\n",
    "    results.sort(key=lambda x: x[1], reverse=True)\n",
    "    if results:\n",
    "        return classes[results[0][0]]\n",
    "    return \"noanswer\"\n",
    "\n",
    "def get_response(tag, sentence=\"\"):\n",
    "    for intent in intents['intents']:\n",
    "        if intent['tag'] == tag:\n",
    "            if tag == \"appointment_details\":\n",
    "                # Simple extraction\n",
    "                words = sentence.lower().split()\n",
    "                specialty = next((word for word in words if \"ologist\" in word), \"specialist\")\n",
    "                time = next((word for word in words if word in [\"today\", \"tomorrow\", \"next\"]), \"soon\")\n",
    "                return intent['responses'][0].format(specialty=specialty, time=time)\n",
    "            return random.choice(intent['responses'])\n",
    "    return \"I'm not sure how to help with that.\"\n",
    "\n",
    "# Chat with memory\n",
    "def healthcare_chat():\n",
    "    print(\"Healthcare Assistant: Hello! I'm here to help with your health questions. Type 'quit' to exit.\\n\")\n",
    "    memory = {\"last_intent\": None}\n",
    "\n",
    "    while True:\n",
    "        user_input = input(\"You: \")\n",
    "        if user_input.lower() == \"quit\":\n",
    "            print(\"Healthcare Assistant: Take care of your health! Goodbye.\")\n",
    "            break\n",
    "\n",
    "        intent_tag = predict_tag(user_input)\n",
    "\n",
    "        # Follow-up logic\n",
    "        if memory[\"last_intent\"] == \"symptoms\" and intent_tag == \"noanswer\":\n",
    "            intent_tag = \"severity_followup\"\n",
    "        elif memory[\"last_intent\"] == \"appointment\" and intent_tag == \"noanswer\":\n",
    "            intent_tag = \"appointment_details\"\n",
    "\n",
    "        response = get_response(intent_tag, user_input)\n",
    "        print(f\"Healthcare Assistant: {response}\")\n",
    "\n",
    "        memory[\"last_intent\"] = intent_tag\n",
    "\n",
    "        # Extra follow-ups\n",
    "        if intent_tag == \"symptoms\":\n",
    "            print(\"Healthcare Assistant: On a scale from 1 to 10, how severe are your symptoms?\")\n",
    "        elif intent_tag == \"appointment\":\n",
    "            print(\"Healthcare Assistant: Do you have a preferred time or doctor?\")\n",
    "\n",
    "# Run chatbot\n",
    "if __name__ == \"__main__\":\n",
    "    healthcare_chat()\n"
   ]
  },
  {
   "cell_type": "code",
   "execution_count": null,
   "id": "00c4631f-5b9a-4d0e-b0ad-91098ac27356",
   "metadata": {},
   "outputs": [],
   "source": []
  },
  {
   "cell_type": "code",
   "execution_count": null,
   "id": "1045fb83-05ea-4b1f-979e-13c9146afee2",
   "metadata": {},
   "outputs": [],
   "source": []
  }
 ],
 "metadata": {
  "kernelspec": {
   "display_name": "Python 3 (ipykernel)",
   "language": "python",
   "name": "python3"
  },
  "language_info": {
   "codemirror_mode": {
    "name": "ipython",
    "version": 3
   },
   "file_extension": ".py",
   "mimetype": "text/x-python",
   "name": "python",
   "nbconvert_exporter": "python",
   "pygments_lexer": "ipython3",
   "version": "3.12.4"
  }
 },
 "nbformat": 4,
 "nbformat_minor": 5
}
