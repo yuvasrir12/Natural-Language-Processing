{
 "cells": [
  {
   "cell_type": "code",
   "execution_count": 5,
   "id": "4dbebcd7-e782-4af7-b8a7-6720595374f9",
   "metadata": {},
   "outputs": [
    {
     "name": "stdout",
     "output_type": "stream",
     "text": [
      "Final Probability (Forward): 0.03271228799999999\n",
      "Final Probability (Backward): 0.033612\n",
      "Final Probability (Viterbi – most likely sequence prob): 0.01344\n"
     ]
    }
   ],
   "source": [
    "# import networkx as nx\n",
    "# import matplotlib.pyplot as plt\n",
    "\n",
    "# Define model\n",
    "states = ['Rainy', 'Sunny']\n",
    "obs = ['walk', 'shop', 'clean']\n",
    "init = {'Rainy': 0.6, 'Sunny': 0.4}\n",
    "trans = {'Rainy': {'Rainy': 0.7, 'Sunny': 0.3}, 'Sunny': {'Rainy': 0.4, 'Sunny': 0.6}}\n",
    "emit = {'Rainy': {'walk': 0.1, 'shop': 0.4, 'clean': 0.5}, 'Sunny': {'walk': 0.6, 'shop': 0.3, 'clean': 0.1}}\n",
    "seq = ['walk', 'shop', 'clean']\n",
    "\n",
    "\n",
    "# Forward\n",
    "def forward(seq): \n",
    "    f = {s: [init[s] * emit[s][seq[0]]] for s in states}\n",
    "    for t in seq[1:]:\n",
    "        for s in states:\n",
    "            f[s].append(sum(f[ps][-1] * trans[ps][s] * emit[s][t] for ps in states))\n",
    "    return f\n",
    "\n",
    "# Backward\n",
    "# def backward(seq):\n",
    "#     b = {s: [1] for s in states}\n",
    "#     for i in range(len(seq)-2, -1, -1):\n",
    "#         for s in states:\n",
    "#             b[s].insert(0, sum(b[ns][0] * trans[s][ns] * emit[ns][seq[i+1]] for ns in states))\n",
    "#     return b\n",
    "\n",
    "\n",
    "def backward(seq):\n",
    "    b = {s: [1] for s in states}\n",
    "    for t in range(len(seq) - 2, -1, -1):\n",
    "        new_b = {}\n",
    "        for s in states:\n",
    "            val = sum(b[ns][0] * trans[s][ns] * emit[ns][seq[t + 1]] for ns in states)\n",
    "            new_b[s] = [val] + b[s]\n",
    "        b = new_b\n",
    "    return b\n",
    "\n",
    "# Viterbi\n",
    "def viterbi(seq):\n",
    "    v = {s: [init[s] * emit[s][seq[0]]] for s in states}\n",
    "    for t in seq[1:]:\n",
    "        for s in states:\n",
    "            v[s].append(max(v[ps][-1] * trans[ps][s] * emit[s][t] for ps in states))\n",
    "    return v\n",
    "\n",
    "# Results\n",
    "fwd = forward(seq)\n",
    "bwd = backward(seq)\n",
    "vit = viterbi(seq)\n",
    "# final_prob = sum(fwd[s][-1] for s in states)\n",
    "final_prob_fwd = sum(fwd[s][-1] for s in states)\n",
    "final_prob_bwd = sum(init[s] * emit[s][seq[0]] * bwd[s][0] for s in states)\n",
    "final_prob_vit = max(vit[s][-1] for s in states)\n",
    "\n",
    "print(\"Final Probability (Forward):\", final_prob_fwd)\n",
    "print(\"Final Probability (Backward):\", final_prob_bwd)\n",
    "print(\"Final Probability (Viterbi – most likely sequence prob):\", final_prob_vit)\n"
   ]
  },
  {
   "cell_type": "code",
   "execution_count": null,
   "id": "e210d99a-4bb5-41d7-b32e-4546b2188097",
   "metadata": {},
   "outputs": [],
   "source": []
  }
 ],
 "metadata": {
  "kernelspec": {
   "display_name": "Python 3 (ipykernel)",
   "language": "python",
   "name": "python3"
  },
  "language_info": {
   "codemirror_mode": {
    "name": "ipython",
    "version": 3
   },
   "file_extension": ".py",
   "mimetype": "text/x-python",
   "name": "python",
   "nbconvert_exporter": "python",
   "pygments_lexer": "ipython3",
   "version": "3.12.4"
  }
 },
 "nbformat": 4,
 "nbformat_minor": 5
}
